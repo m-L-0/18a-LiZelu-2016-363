{
 "cells": [
  {
   "cell_type": "code",
   "execution_count": 9,
   "metadata": {},
   "outputs": [],
   "source": [
    "import scipy.io as scio\n",
    "import spectral\n",
    "import os\n",
    "import numpy as np\n",
    "from sklearn.preprocessing import MinMaxScaler"
   ]
  },
  {
   "cell_type": "code",
   "execution_count": 15,
   "metadata": {},
   "outputs": [],
   "source": [
    "dataFile1 = '/Users/lizelu/Downloads/9个类别的数据集-train/data2_train.mat'\n",
    "dataFile2 = '/Users/lizelu/Downloads/9个类别的数据集-train/data3_train.mat'\n",
    "dataFile3 = '/Users/lizelu/Downloads/9个类别的数据集-train/data5_train.mat'\n",
    "dataFile4 = '/Users/lizelu/Downloads/9个类别的数据集-train/data6_train.mat'\n",
    "dataFile5 = '/Users/lizelu/Downloads/9个类别的数据集-train/data8_train.mat'\n",
    "dataFile6 = '/Users/lizelu/Downloads/9个类别的数据集-train/data10_train.mat'\n",
    "dataFile7 = '/Users/lizelu/Downloads/9个类别的数据集-train/data11_train.mat'\n",
    "dataFile8 = '/Users/lizelu/Downloads/9个类别的数据集-train/data12_train.mat'\n",
    "dataFile9 = '/Users/lizelu/Downloads/9个类别的数据集-train/data14_train.mat'\n",
    "data1 = scio.loadmat(dataFile1)['data2_train']\n",
    "data2 = scio.loadmat(dataFile2)['data3_train']\n",
    "data3 = scio.loadmat(dataFile3)['data5_train']\n",
    "data4 = scio.loadmat(dataFile4)['data6_train']\n",
    "data5 = scio.loadmat(dataFile5)['data8_train']\n",
    "data6 = scio.loadmat(dataFile6)['data10_train']\n",
    "data7 = scio.loadmat(dataFile7)['data11_train']\n",
    "data8 = scio.loadmat(dataFile8)['data12_train']\n",
    "data9 = scio.loadmat(dataFile9)['data14_train']"
   ]
  },
  {
   "cell_type": "code",
   "execution_count": 16,
   "metadata": {},
   "outputs": [
    {
     "data": {
      "text/plain": [
       "array([[3688, 4381, 4594, ..., 1064, 1034, 1010],\n",
       "       [2579, 4137, 4412, ..., 1051, 1043, 1005],\n",
       "       [2581, 4264, 4328, ..., 1054, 1022, 1009],\n",
       "       ...,\n",
       "       [3186, 4114, 4213, ..., 1045, 1015, 1009],\n",
       "       [2586, 4114, 4226, ..., 1023, 1018, 1014],\n",
       "       [3189, 4118, 4492, ..., 1034, 1014, 1009]], dtype=uint16)"
      ]
     },
     "execution_count": 16,
     "metadata": {},
     "output_type": "execute_result"
    }
   ],
   "source": [
    "data1"
   ]
  },
  {
   "cell_type": "code",
   "execution_count": 2,
   "metadata": {},
   "outputs": [],
   "source": [
    "import matplotlib.pyplot as plt\n",
    "import numpy as np"
   ]
  },
  {
   "cell_type": "code",
   "execution_count": 17,
   "metadata": {},
   "outputs": [
    {
     "data": {
      "text/plain": [
       "numpy.ndarray"
      ]
     },
     "execution_count": 17,
     "metadata": {},
     "output_type": "execute_result"
    }
   ],
   "source": [
    "type(data1)"
   ]
  },
  {
   "cell_type": "code",
   "execution_count": 27,
   "metadata": {},
   "outputs": [
    {
     "data": {
      "image/png": "[encoded data removed]",
      "text/plain": [
       "<Figure size 648x648 with 1 Axes>"
      ]
     },
     "metadata": {
      "needs_background": "light"
     },
     "output_type": "display_data"
    }
   ],
   "source": [
    "ground_truth = spectral.imshow(classes = data1.astype(int),figsize =(9,9))"
   ]
  },
  {
   "cell_type": "code",
   "execution_count": 10,
   "metadata": {},
   "outputs": [],
   "source": [
    "MinMax = MinMaxScaler()"
   ]
  },
  {
   "cell_type": "code",
   "execution_count": 6,
   "metadata": {},
   "outputs": [],
   "source": [
    "data_dict = {}\n",
    "data_path = \"/Users/lizelu/Downloads/9个类别的数据集-train\"\n",
    "for i in os.listdir(data_path):\n",
    "    data = scio.loadmat(os.path.join(data_path,i))\n",
    "    data_dict[i.split(\".\")[0]] = data[i.split(\".\")[0]]"
   ]
  },
  {
   "cell_type": "code",
   "execution_count": 11,
   "metadata": {},
   "outputs": [
    {
     "name": "stderr",
     "output_type": "stream",
     "text": [
      "/anaconda3/lib/python3.6/site-packages/sklearn/utils/validation.py:590: DataConversionWarning: Data with input dtype uint16 was converted to float64 by MinMaxScaler.\n",
      "  warnings.warn(msg, DataConversionWarning)\n",
      "/anaconda3/lib/python3.6/site-packages/sklearn/utils/validation.py:590: DataConversionWarning: Data with input dtype uint16 was converted to float64 by MinMaxScaler.\n",
      "  warnings.warn(msg, DataConversionWarning)\n",
      "/anaconda3/lib/python3.6/site-packages/sklearn/utils/validation.py:590: DataConversionWarning: Data with input dtype uint16 was converted to float64 by MinMaxScaler.\n",
      "  warnings.warn(msg, DataConversionWarning)\n",
      "/anaconda3/lib/python3.6/site-packages/sklearn/utils/validation.py:590: DataConversionWarning: Data with input dtype uint16 was converted to float64 by MinMaxScaler.\n",
      "  warnings.warn(msg, DataConversionWarning)\n",
      "/anaconda3/lib/python3.6/site-packages/sklearn/utils/validation.py:590: DataConversionWarning: Data with input dtype uint16 was converted to float64 by MinMaxScaler.\n",
      "  warnings.warn(msg, DataConversionWarning)\n",
      "/anaconda3/lib/python3.6/site-packages/sklearn/utils/validation.py:590: DataConversionWarning: Data with input dtype uint16 was converted to float64 by MinMaxScaler.\n",
      "  warnings.warn(msg, DataConversionWarning)\n",
      "/anaconda3/lib/python3.6/site-packages/sklearn/utils/validation.py:590: DataConversionWarning: Data with input dtype uint16 was converted to float64 by MinMaxScaler.\n",
      "  warnings.warn(msg, DataConversionWarning)\n",
      "/anaconda3/lib/python3.6/site-packages/sklearn/utils/validation.py:590: DataConversionWarning: Data with input dtype uint16 was converted to float64 by MinMaxScaler.\n",
      "  warnings.warn(msg, DataConversionWarning)\n",
      "/anaconda3/lib/python3.6/site-packages/sklearn/utils/validation.py:590: DataConversionWarning: Data with input dtype uint16 was converted to float64 by MinMaxScaler.\n",
      "  warnings.warn(msg, DataConversionWarning)\n"
     ]
    }
   ],
   "source": [
    "for i in data_dict.keys():\n",
    "    data_dict[i] = MinMax.fit_transform(data_dict[i])"
   ]
  },
  {
   "cell_type": "code",
   "execution_count": 12,
   "metadata": {},
   "outputs": [
    {
     "data": {
      "text/plain": [
       "{'data11_train': array([[0.76938503, 0.50345508, 0.55302279, ..., 0.71428571, 0.46153846,\n",
       "         0.76190476],\n",
       "        [0.76938503, 0.50641658, 0.56194252, ..., 0.45238095, 0.53846154,\n",
       "         0.66666667],\n",
       "        [0.76938503, 0.6219151 , 0.73736373, ..., 0.47619048, 0.55769231,\n",
       "         0.42857143],\n",
       "        ...,\n",
       "        [0.11229947, 0.6100691 , 0.61744301, ..., 0.42857143, 0.44230769,\n",
       "         0.33333333],\n",
       "        [0.39705882, 0.36920039, 0.44499504, ..., 0.42857143, 0.44230769,\n",
       "         0.76190476],\n",
       "        [0.39705882, 0.48766041, 0.52923687, ..., 0.48809524, 0.53846154,\n",
       "         0.23809524]]),\n",
       " 'data10_train': array([[0.85316265, 0.44634703, 0.47647768, ..., 0.46938776, 0.54761905,\n",
       "         0.80952381],\n",
       "        [0.02183735, 0.57876712, 0.27261761, ..., 0.46938776, 0.54761905,\n",
       "         0.69047619],\n",
       "        [0.85316265, 0.30022831, 0.48130277, ..., 0.36734694, 0.66666667,\n",
       "         0.69047619],\n",
       "        ...,\n",
       "        [0.00301205, 0.42579909, 0.21954162, ..., 0.30612245, 0.52380952,\n",
       "         0.66666667],\n",
       "        [0.13177711, 0.28424658, 0.22557298, ..., 0.28571429, 0.54761905,\n",
       "         0.66666667],\n",
       "        [0.12951807, 0.293379  , 0.33775633, ..., 0.55102041, 0.54761905,\n",
       "         0.57142857]]),\n",
       " 'data6_train': array([[0.40207972, 0.33815789, 0.27987421, ..., 0.06122449, 0.5       ,\n",
       "         0.72222222],\n",
       "        [0.40901213, 0.34868421, 0.40566038, ..., 0.32653061, 0.5       ,\n",
       "         0.36111111],\n",
       "        [0.18284229, 0.65921053, 0.14622642, ..., 0.53061224, 0.5       ,\n",
       "         0.36111111],\n",
       "        ...,\n",
       "        [0.9610052 , 0.49342105, 0.40251572, ..., 0.53061224, 0.63888889,\n",
       "         0.47222222],\n",
       "        [0.00433276, 0.64605263, 0.54874214, ..., 0.28571429, 0.02777778,\n",
       "         0.36111111],\n",
       "        [0.9610052 , 0.325     , 0.6745283 , ..., 0.26530612, 0.33333333,\n",
       "         0.22222222]]),\n",
       " 'data3_train': array([[0.40320427, 0.712036  , 0.40996602, ..., 0.49090909, 0.41025641,\n",
       "         0.76315789],\n",
       "        [0.74365821, 0.56917885, 0.60588901, ..., 0.50909091, 0.51282051,\n",
       "         0.42105263],\n",
       "        [0.11481976, 0.43419573, 0.50056625, ..., 0.50909091, 0.53846154,\n",
       "         0.52631579],\n",
       "        ...,\n",
       "        [0.50867824, 0.26884139, 0.5605889 , ..., 0.34545455, 0.15384615,\n",
       "         0.47368421],\n",
       "        [0.11148198, 0.40382452, 0.35447339, ..., 0.25454545, 0.25641026,\n",
       "         0.60526316],\n",
       "        [0.73831776, 0.27334083, 0.25934315, ..., 0.4       , 0.02564103,\n",
       "         0.5       ]]),\n",
       " 'data8_train': array([[0.13824885, 0.98746082, 0.75207756, ..., 0.4375    , 0.38235294,\n",
       "         0.32142857],\n",
       "        [0.13824885, 0.40438871, 0.75207756, ..., 0.5625    , 0.76470588,\n",
       "         0.64285714],\n",
       "        [0.13824885, 0.42319749, 0.74099723, ..., 0.3125    , 0.79411765,\n",
       "         0.35714286],\n",
       "        ...,\n",
       "        [0.47465438, 0.77899687, 0.60526316, ..., 0.4375    , 0.76470588,\n",
       "         0.17857143],\n",
       "        [0.47465438, 0.5846395 , 0.60526316, ..., 0.5625    , 0.5       ,\n",
       "         0.46428571],\n",
       "        [0.47465438, 0.59090909, 0.60526316, ..., 0.59375   , 0.5       ,\n",
       "         0.64285714]]),\n",
       " 'data5_train': array([[0.4797136 , 0.58018328, 0.12562189, ..., 0.26666667, 0.53658537,\n",
       "         0.42424242],\n",
       "        [0.00397772, 0.58190149, 0.44154229, ..., 0.46666667, 0.56097561,\n",
       "         0.51515152],\n",
       "        [0.00238663, 0.6489118 , 0.12064677, ..., 0.28888889, 0.56097561,\n",
       "         0.42424242],\n",
       "        ...,\n",
       "        [0.32299125, 0.57216495, 0.32711443, ..., 0.62222222, 0.68292683,\n",
       "         0.54545455],\n",
       "        [0.59029435, 0.64318442, 0.21641791, ..., 0.51111111, 0.56097561,\n",
       "         0.54545455],\n",
       "        [0.31901352, 0.64318442, 0.23134328, ..., 0.4       , 0.46341463,\n",
       "         0.54545455]]),\n",
       " 'data12_train': array([[0.00272109, 0.28620296, 0.30237581, ..., 0.33333333, 0.23809524,\n",
       "         0.41176471],\n",
       "        [0.12040816, 0.15849487, 0.39416847, ..., 0.33333333, 0.33333333,\n",
       "         0.67647059],\n",
       "        [0.75034014, 0.57354618, 0.28941685, ..., 0.3968254 , 0.45238095,\n",
       "         0.55882353],\n",
       "        ...,\n",
       "        [0.77755102, 0.69897377, 0.58963283, ..., 0.6984127 , 0.88095238,\n",
       "         0.38235294],\n",
       "        [0.43401361, 0.54960091, 0.68034557, ..., 0.84126984, 0.57142857,\n",
       "         0.64705882],\n",
       "        [0.78095238, 0.41277081, 0.58423326, ..., 0.65079365, 0.33333333,\n",
       "         0.79411765]]),\n",
       " 'data2_train': array([[0.75540541, 0.56255546, 0.49892934, ..., 0.75      , 0.6744186 ,\n",
       "         0.46511628],\n",
       "        [0.00608108, 0.34605146, 0.30406852, ..., 0.55882353, 0.88372093,\n",
       "         0.34883721],\n",
       "        [0.00743243, 0.45874002, 0.21413276, ..., 0.60294118, 0.39534884,\n",
       "         0.44186047],\n",
       "        ...,\n",
       "        [0.41621622, 0.3256433 , 0.09100642, ..., 0.47058824, 0.23255814,\n",
       "         0.44186047],\n",
       "        [0.01081081, 0.3256433 , 0.10492505, ..., 0.14705882, 0.30232558,\n",
       "         0.55813953],\n",
       "        [0.41824324, 0.32919255, 0.38972163, ..., 0.30882353, 0.20930233,\n",
       "         0.44186047]]),\n",
       " 'data14_train': array([[0.01258993, 0.43681747, 0.62106918, ..., 0.69444444, 0.64864865,\n",
       "         0.48648649],\n",
       "        [0.55215827, 0.44773791, 0.48113208, ..., 0.88888889, 0.64864865,\n",
       "         0.64864865],\n",
       "        [0.01528777, 0.82215289, 0.49528302, ..., 0.63888889, 0.54054054,\n",
       "         0.51351351],\n",
       "        ...,\n",
       "        [0.14838129, 0.60530421, 0.56603774, ..., 0.5       , 0.48648649,\n",
       "         0.62162162],\n",
       "        [0.68345324, 0.41809672, 0.43396226, ..., 0.5       , 0.48648649,\n",
       "         0.40540541],\n",
       "        [0.53417266, 0.61154446, 0.56603774, ..., 0.61111111, 0.27027027,\n",
       "         0.48648649]])}"
      ]
     },
     "execution_count": 12,
     "metadata": {},
     "output_type": "execute_result"
    }
   ],
   "source": [
    "data_dict"
   ]
  },
  {
   "cell_type": "code",
   "execution_count": 13,
   "metadata": {},
   "outputs": [],
   "source": [
    "X = []\n",
    "for i in data_dict.keys():\n",
    "    for j in data_dict[i]:\n",
    "        X.append(j)\n",
    "X = np.array(X)"
   ]
  },
  {
   "cell_type": "code",
   "execution_count": 15,
   "metadata": {},
   "outputs": [
    {
     "data": {
      "text/plain": [
       "(6924, 200)"
      ]
     },
     "execution_count": 15,
     "metadata": {},
     "output_type": "execute_result"
    }
   ],
   "source": [
    "X.shape"
   ]
  },
  {
   "cell_type": "code",
   "execution_count": 20,
   "metadata": {},
   "outputs": [],
   "source": [
    "Y = []\n",
    "count = 1\n",
    "label = 1\n",
    "for i in data_dict.keys():\n",
    "    for j in range(len(data_dict[i])):\n",
    "        Y.append(label)\n",
    "        count += 1\n",
    "    label += 1\n",
    "Y = np.array(Y)"
   ]
  },
  {
   "cell_type": "code",
   "execution_count": 23,
   "metadata": {},
   "outputs": [],
   "source": [
    "#生成随机数\n",
    "idx = np.random.randint(0,6924,6924)"
   ]
  },
  {
   "cell_type": "code",
   "execution_count": 26,
   "metadata": {},
   "outputs": [],
   "source": [
    "#随机打乱X，Y\n",
    "X,Y = X[idx],Y[idx]"
   ]
  },
  {
   "cell_type": "code",
   "execution_count": 29,
   "metadata": {},
   "outputs": [],
   "source": [
    "from sklearn.svm import SVC"
   ]
  },
  {
   "cell_type": "code",
   "execution_count": 32,
   "metadata": {},
   "outputs": [
    {
     "name": "stderr",
     "output_type": "stream",
     "text": [
      "/anaconda3/lib/python3.6/site-packages/sklearn/svm/base.py:196: FutureWarning: The default value of gamma will change from 'auto' to 'scale' in version 0.22 to account better for unscaled features. Set gamma explicitly to 'auto' or 'scale' to avoid this warning.\n",
      "  \"avoid this warning.\", FutureWarning)\n"
     ]
    }
   ],
   "source": [
    "#训练\n",
    "clf = SVC()\n",
    "clf.fit(X,Y)\n",
    "Y_pred = clf.predict(X)"
   ]
  },
  {
   "cell_type": "code",
   "execution_count": 40,
   "metadata": {},
   "outputs": [
    {
     "name": "stderr",
     "output_type": "stream",
     "text": [
      "/anaconda3/lib/python3.6/site-packages/sklearn/utils/validation.py:590: DataConversionWarning: Data with input dtype uint16 was converted to float64 by MinMaxScaler.\n",
      "  warnings.warn(msg, DataConversionWarning)\n"
     ]
    }
   ],
   "source": [
    "#测试集处理\n",
    "test_path = '/Users/lizelu/Downloads/data_test_final.mat'\n",
    "test_data = scio.loadmat(test_path)['data_test_final']     #定位\n",
    "test = MinMax.fit_transform(test_data)"
   ]
  },
  {
   "cell_type": "code",
   "execution_count": 50,
   "metadata": {},
   "outputs": [
    {
     "data": {
      "text/plain": [
       "array([[4.05423729e-01, 6.82106290e-01, 2.83489097e-01, ...,\n",
       "        3.11111111e-01, 5.08474576e-01, 5.10204082e-01],\n",
       "       [3.13898305e-01, 4.94392979e-01, 1.91588785e-01, ...,\n",
       "        2.77777778e-01, 3.22033898e-01, 3.87755102e-01],\n",
       "       [1.24067797e-01, 8.11799122e-01, 6.30841121e-01, ...,\n",
       "        6.88888889e-01, 6.94915254e-01, 8.16326531e-01],\n",
       "       ...,\n",
       "       [6.77966102e-04, 5.64602633e-01, 2.10280374e-01, ...,\n",
       "        2.66666667e-01, 1.52542373e-01, 6.12244898e-01],\n",
       "       [1.25423729e-01, 8.13261824e-01, 4.31464174e-01, ...,\n",
       "        5.77777778e-01, 6.77966102e-01, 6.93877551e-01],\n",
       "       [3.04406780e-01, 6.15797172e-01, 1.44859813e-01, ...,\n",
       "        1.88888889e-01, 3.38983051e-01, 3.06122449e-01]])"
      ]
     },
     "execution_count": 50,
     "metadata": {},
     "output_type": "execute_result"
    }
   ],
   "source": [
    "test"
   ]
  },
  {
   "cell_type": "code",
   "execution_count": 44,
   "metadata": {},
   "outputs": [],
   "source": [
    "pred = clf.predict(test)   "
   ]
  },
  {
   "cell_type": "code",
   "execution_count": 43,
   "metadata": {},
   "outputs": [],
   "source": [
    "from sklearn import metrics"
   ]
  },
  {
   "cell_type": "code",
   "execution_count": 48,
   "metadata": {},
   "outputs": [
    {
     "ename": "ValueError",
     "evalue": "Found input variables with inconsistent numbers of samples: [6924, 2310]",
     "output_type": "error",
     "traceback": [
      "\u001b[0;31m---------------------------------------------------------------------------\u001b[0m",
      "\u001b[0;31mValueError\u001b[0m                                Traceback (most recent call last)",
      "\u001b[0;32m<ipython-input-48-a808b4a2eb40>\u001b[0m in \u001b[0;36m<module>\u001b[0;34m\u001b[0m\n\u001b[0;32m----> 1\u001b[0;31m \u001b[0mprint\u001b[0m\u001b[0;34m(\u001b[0m\u001b[0mmetrics\u001b[0m\u001b[0;34m.\u001b[0m\u001b[0maccuracy_score\u001b[0m\u001b[0;34m(\u001b[0m\u001b[0mY_pred\u001b[0m\u001b[0;34m,\u001b[0m\u001b[0mpred\u001b[0m\u001b[0;34m)\u001b[0m\u001b[0;34m)\u001b[0m\u001b[0;34m\u001b[0m\u001b[0m\n\u001b[0m",
      "\u001b[0;32m/anaconda3/lib/python3.6/site-packages/sklearn/metrics/classification.py\u001b[0m in \u001b[0;36maccuracy_score\u001b[0;34m(y_true, y_pred, normalize, sample_weight)\u001b[0m\n\u001b[1;32m    174\u001b[0m \u001b[0;34m\u001b[0m\u001b[0m\n\u001b[1;32m    175\u001b[0m     \u001b[0;31m# Compute accuracy for each possible representation\u001b[0m\u001b[0;34m\u001b[0m\u001b[0;34m\u001b[0m\u001b[0m\n\u001b[0;32m--> 176\u001b[0;31m     \u001b[0my_type\u001b[0m\u001b[0;34m,\u001b[0m \u001b[0my_true\u001b[0m\u001b[0;34m,\u001b[0m \u001b[0my_pred\u001b[0m \u001b[0;34m=\u001b[0m \u001b[0m_check_targets\u001b[0m\u001b[0;34m(\u001b[0m\u001b[0my_true\u001b[0m\u001b[0;34m,\u001b[0m \u001b[0my_pred\u001b[0m\u001b[0;34m)\u001b[0m\u001b[0;34m\u001b[0m\u001b[0m\n\u001b[0m\u001b[1;32m    177\u001b[0m     \u001b[0mcheck_consistent_length\u001b[0m\u001b[0;34m(\u001b[0m\u001b[0my_true\u001b[0m\u001b[0;34m,\u001b[0m \u001b[0my_pred\u001b[0m\u001b[0;34m,\u001b[0m \u001b[0msample_weight\u001b[0m\u001b[0;34m)\u001b[0m\u001b[0;34m\u001b[0m\u001b[0m\n\u001b[1;32m    178\u001b[0m     \u001b[0;32mif\u001b[0m \u001b[0my_type\u001b[0m\u001b[0;34m.\u001b[0m\u001b[0mstartswith\u001b[0m\u001b[0;34m(\u001b[0m\u001b[0;34m'multilabel'\u001b[0m\u001b[0;34m)\u001b[0m\u001b[0;34m:\u001b[0m\u001b[0;34m\u001b[0m\u001b[0m\n",
      "\u001b[0;32m/anaconda3/lib/python3.6/site-packages/sklearn/metrics/classification.py\u001b[0m in \u001b[0;36m_check_targets\u001b[0;34m(y_true, y_pred)\u001b[0m\n\u001b[1;32m     69\u001b[0m     \u001b[0my_pred\u001b[0m \u001b[0;34m:\u001b[0m \u001b[0marray\u001b[0m \u001b[0;32mor\u001b[0m \u001b[0mindicator\u001b[0m \u001b[0mmatrix\u001b[0m\u001b[0;34m\u001b[0m\u001b[0m\n\u001b[1;32m     70\u001b[0m     \"\"\"\n\u001b[0;32m---> 71\u001b[0;31m     \u001b[0mcheck_consistent_length\u001b[0m\u001b[0;34m(\u001b[0m\u001b[0my_true\u001b[0m\u001b[0;34m,\u001b[0m \u001b[0my_pred\u001b[0m\u001b[0;34m)\u001b[0m\u001b[0;34m\u001b[0m\u001b[0m\n\u001b[0m\u001b[1;32m     72\u001b[0m     \u001b[0mtype_true\u001b[0m \u001b[0;34m=\u001b[0m \u001b[0mtype_of_target\u001b[0m\u001b[0;34m(\u001b[0m\u001b[0my_true\u001b[0m\u001b[0;34m)\u001b[0m\u001b[0;34m\u001b[0m\u001b[0m\n\u001b[1;32m     73\u001b[0m     \u001b[0mtype_pred\u001b[0m \u001b[0;34m=\u001b[0m \u001b[0mtype_of_target\u001b[0m\u001b[0;34m(\u001b[0m\u001b[0my_pred\u001b[0m\u001b[0;34m)\u001b[0m\u001b[0;34m\u001b[0m\u001b[0m\n",
      "\u001b[0;32m/anaconda3/lib/python3.6/site-packages/sklearn/utils/validation.py\u001b[0m in \u001b[0;36mcheck_consistent_length\u001b[0;34m(*arrays)\u001b[0m\n\u001b[1;32m    228\u001b[0m     \u001b[0;32mif\u001b[0m \u001b[0mlen\u001b[0m\u001b[0;34m(\u001b[0m\u001b[0muniques\u001b[0m\u001b[0;34m)\u001b[0m \u001b[0;34m>\u001b[0m \u001b[0;36m1\u001b[0m\u001b[0;34m:\u001b[0m\u001b[0;34m\u001b[0m\u001b[0m\n\u001b[1;32m    229\u001b[0m         raise ValueError(\"Found input variables with inconsistent numbers of\"\n\u001b[0;32m--> 230\u001b[0;31m                          \" samples: %r\" % [int(l) for l in lengths])\n\u001b[0m\u001b[1;32m    231\u001b[0m \u001b[0;34m\u001b[0m\u001b[0m\n\u001b[1;32m    232\u001b[0m \u001b[0;34m\u001b[0m\u001b[0m\n",
      "\u001b[0;31mValueError\u001b[0m: Found input variables with inconsistent numbers of samples: [6924, 2310]"
     ]
    }
   ],
   "source": [
    "print(metrics.accuracy_score(Y_pred,pred))"
   ]
  },
  {
   "cell_type": "code",
   "execution_count": 56,
   "metadata": {},
   "outputs": [
    {
     "data": {
      "text/plain": [
       "(6924,)"
      ]
     },
     "execution_count": 56,
     "metadata": {},
     "output_type": "execute_result"
    }
   ],
   "source": [
    "Y_pred.shape"
   ]
  },
  {
   "cell_type": "code",
   "execution_count": null,
   "metadata": {},
   "outputs": [],
   "source": []
  }
 ],
 "metadata": {
  "kernelspec": {
   "display_name": "Python 3",
   "language": "python",
   "name": "python3"
  },
  "language_info": {
   "codemirror_mode": {
    "name": "ipython",
    "version": 3
   },
   "file_extension": ".py",
   "mimetype": "text/x-python",
   "name": "python",
   "nbconvert_exporter": "python",
   "pygments_lexer": "ipython3",
   "version": "3.6.5"
  }
 },
 "nbformat": 4,
 "nbformat_minor": 2
}
